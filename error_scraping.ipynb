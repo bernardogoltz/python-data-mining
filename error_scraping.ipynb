{
  "nbformat": 4,
  "nbformat_minor": 0,
  "metadata": {
    "colab": {
      "name": "error_scraping.ipynb",
      "provenance": [],
      "authorship_tag": "ABX9TyMQKMHBh+NFi2rtyM04WnJq",
      "include_colab_link": true
    },
    "kernelspec": {
      "name": "python3",
      "display_name": "Python 3"
    },
    "language_info": {
      "name": "python"
    }
  },
  "cells": [
    {
      "cell_type": "markdown",
      "metadata": {
        "id": "view-in-github",
        "colab_type": "text"
      },
      "source": [
        "<a href=\"https://colab.research.google.com/github/bernardogoltz/data-mining/blob/main/error_scraping.ipynb\" target=\"_parent\"><img src=\"https://colab.research.google.com/assets/colab-badge.svg\" alt=\"Open In Colab\"/></a>"
      ]
    },
    {
      "cell_type": "markdown",
      "source": [
        ""
      ],
      "metadata": {
        "id": "bIT_P3xX5_O3"
      }
    },
    {
      "cell_type": "code",
      "source": [
        "from urllib.request import urlopen \n",
        "\n",
        "from urllib.error import HTTPError\n",
        "from urllib.error import URLError"
      ],
      "metadata": {
        "id": "FlFKiySP5__m"
      },
      "execution_count": 10,
      "outputs": []
    },
    {
      "cell_type": "code",
      "source": [
        "url = 'https://www.pythonscraping.com/pages/page1.html'"
      ],
      "metadata": {
        "id": "mJXnA3kI6bxe"
      },
      "execution_count": 7,
      "outputs": []
    },
    {
      "cell_type": "markdown",
      "source": [
        "> The page is not found on the server (or there was an error in retrieving it).\n",
        "\n",
        "> The server is not found."
      ],
      "metadata": {
        "id": "uxAuuEVP64Qj"
      }
    },
    {
      "cell_type": "code",
      "source": [
        "try:\n",
        "    html = urlopen(url)\n",
        "\n",
        "except HTTPError as e:\n",
        "    print(e)\n",
        "\n",
        "except URLError as e:\n",
        "    print(\"The server couldn't be found! \")\n",
        "\n",
        "else: \n",
        "    print(\"It's Working!\")\n"
      ],
      "metadata": {
        "colab": {
          "base_uri": "https://localhost:8080/"
        },
        "id": "wpVNVj_47lA3",
        "outputId": "e92dbeaf-3f48-418f-bd86-8652176d2ea5"
      },
      "execution_count": 14,
      "outputs": [
        {
          "output_type": "stream",
          "name": "stdout",
          "text": [
            "It's Working!\n"
          ]
        }
      ]
    },
    {
      "cell_type": "code",
      "source": [
        ""
      ],
      "metadata": {
        "id": "bnnyOoMJ9gU0"
      },
      "execution_count": null,
      "outputs": []
    },
    {
      "cell_type": "code",
      "source": [
        "\n"
      ],
      "metadata": {
        "id": "jBy-2-xk7yRR"
      },
      "execution_count": null,
      "outputs": []
    }
  ]
}